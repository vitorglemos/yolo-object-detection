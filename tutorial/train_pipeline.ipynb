{
 "cells": [
  {
   "cell_type": "markdown",
   "metadata": {},
   "source": [
    "## Check NVIDIA GPU config"
   ]
  },
  {
   "cell_type": "code",
   "execution_count": null,
   "metadata": {},
   "outputs": [],
   "source": [
    "!nvidia-smi"
   ]
  },
  {
   "cell_type": "markdown",
   "metadata": {},
   "source": [
    "## Google Drive create environment"
   ]
  },
  {
   "cell_type": "code",
   "execution_count": null,
   "metadata": {},
   "outputs": [],
   "source": [
    "from google.colab import drive\n",
    "\n",
    "google_drive_environment = True\n",
    "\n",
    "if google_drive_environment\n",
    "    drive.mount('/content/gdrive')\n",
    "    !ln -s /content/gdrive/My\\ Drive/ /mydrive\n",
    "    !ls /mydrive"
   ]
  },
  {
   "cell_type": "markdown",
   "metadata": {},
   "source": [
    "## Git clone Darknet Project"
   ]
  },
  {
   "cell_type": "code",
   "execution_count": null,
   "metadata": {},
   "outputs": [],
   "source": [
    "!git clone https://github.com/AlexeyAB/darknet"
   ]
  },
  {
   "cell_type": "markdown",
   "metadata": {},
   "source": [
    "## Compile darknet using GPU"
   ]
  },
  {
   "cell_type": "code",
   "execution_count": null,
   "metadata": {},
   "outputs": [],
   "source": [
    "# change makefile to have GPU and OPENCV enabled\n",
    "%cd darknet\n",
    "!sed -i 's/OPENCV=0/OPENCV=1/' Makefile\n",
    "!sed -i 's/GPU=0/GPU=1/' Makefile\n",
    "!sed -i 's/CUDNN=0/CUDNN=1/' Makefile\n",
    "!make"
   ]
  },
  {
   "cell_type": "markdown",
   "metadata": {},
   "source": [
    "## Creating yolo training model "
   ]
  },
  {
   "cell_type": "code",
   "execution_count": null,
   "metadata": {},
   "outputs": [],
   "source": [
    "!cp cfg/yolov3.cfg cfg/yolov3_training.cfg"
   ]
  },
  {
   "cell_type": "code",
   "execution_count": null,
   "metadata": {},
   "outputs": [],
   "source": [
    "ls /mydrive/yolov2_logos/"
   ]
  },
  {
   "cell_type": "markdown",
   "metadata": {},
   "source": [
    "## Calculate filter number "
   ]
  },
  {
   "cell_type": "code",
   "execution_count": 3,
   "metadata": {},
   "outputs": [
    {
     "name": "stdout",
     "output_type": "stream",
     "text": [
      "Total filters:  96\n"
     ]
    }
   ],
   "source": [
    "n_classes = 27\n",
    "number_filters = (n_classes + 5) * 3\n",
    "print('Total filters: ', number_filters)"
   ]
  },
  {
   "cell_type": "code",
   "execution_count": null,
   "metadata": {},
   "outputs": [],
   "source": [
    "!sed -i 's/batch=1/batch=64/' cfg/yolov3_training.cfg\n",
    "!sed -i 's/subdivisions=1/subdivisions=16/' cfg/yolov3_training.cfg\n",
    "!sed -i 's/max_batches = 500200/max_batches = 5000/' cfg/yolov3_training.cfg\n",
    "!sed -i '610 s@classes=80@classes=27@' cfg/yolov3_training.cfg\n",
    "!sed -i '696 s@classes=80@classes=27@' cfg/yolov3_training.cfg\n",
    "!sed -i '783 s@classes=80@classes=27@' cfg/yolov3_training.cfg\n",
    "!sed -i '603 s@filters=255@filters=96@' cfg/yolov3_training.cfg\n",
    "!sed -i '689 s@filters=255@filters=96@' cfg/yolov3_training.cfg\n",
    "!sed -i '776 s@filters=255@filters=96@' cfg/yolov3_training.cfg"
   ]
  },
  {
   "cell_type": "code",
   "execution_count": null,
   "metadata": {},
   "outputs": [],
   "source": [
    "!echo -e 'classes=27\\ntrain  = data/train.txt\\nvalid  = data/test.txt\\nnames = data/obj.names\\nbackup = /mydrive/yolov2_logos' > data/obj.data\n",
    "!mkdir data/obj"
   ]
  },
  {
   "cell_type": "markdown",
   "metadata": {},
   "source": [
    "## Download weights darknet - Transfer Learning"
   ]
  },
  {
   "cell_type": "code",
   "execution_count": null,
   "metadata": {},
   "outputs": [],
   "source": [
    "!wget https://pjreddie.com/media/files/darknet53.conv.74"
   ]
  },
  {
   "cell_type": "code",
   "execution_count": null,
   "metadata": {},
   "outputs": [],
   "source": [
    "!cp /mydrive/yolov2_logos/logos.names ./data/obj.names\n",
    "!unzip /mydrive/yolov2_logos/images_2.zip -d data/obj"
   ]
  },
  {
   "cell_type": "markdown",
   "metadata": {},
   "source": [
    "## Creating files "
   ]
  },
  {
   "cell_type": "code",
   "execution_count": null,
   "metadata": {},
   "outputs": [],
   "source": [
    "import glob\n",
    "\n",
    "images_list = glob.glob(\"data/obj/*.jpg\")\n",
    "print(images_list)\n",
    "\n",
    "file = open(\"data/train.txt\", \"w\") \n",
    "file.write(\"\\n\".join(images_list)) \n",
    "file.close() \n",
    "\n",
    "file = open(\"data/train.txt\", \"r\") \n",
    "for current in file:\n",
    "    print(current)\n",
    "    \n",
    "file = open(\"data/obj.names\", \"r\") \n",
    "for current in file:\n",
    "    print(current)"
   ]
  },
  {
   "cell_type": "markdown",
   "metadata": {},
   "source": [
    "## Training object detection"
   ]
  },
  {
   "cell_type": "code",
   "execution_count": null,
   "metadata": {},
   "outputs": [],
   "source": [
    "# Start the training\n",
    "!sudo ./darknet detector train data/obj.data cfg/yolov3_training.cfg darknet53.conv.74 -dont_show "
   ]
  },
  {
   "cell_type": "markdown",
   "metadata": {},
   "source": [
    "## Continue training model"
   ]
  },
  {
   "cell_type": "code",
   "execution_count": null,
   "metadata": {},
   "outputs": [],
   "source": [
    "!sudo ./darknet detector train data/obj.data yolo-obj.cfg backup/yolo-obj_last.weights"
   ]
  }
 ],
 "metadata": {
  "kernelspec": {
   "display_name": "Python 3",
   "language": "python",
   "name": "python3"
  },
  "language_info": {
   "codemirror_mode": {
    "name": "ipython",
    "version": 3
   },
   "file_extension": ".py",
   "mimetype": "text/x-python",
   "name": "python",
   "nbconvert_exporter": "python",
   "pygments_lexer": "ipython3",
   "version": "3.8.5"
  }
 },
 "nbformat": 4,
 "nbformat_minor": 4
}
